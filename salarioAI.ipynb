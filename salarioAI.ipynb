{
 "cells": [
  {
   "cell_type": "code",
   "execution_count": 1,
   "metadata": {},
   "outputs": [],
   "source": [
    "import pandas as pd\n",
    "import numpy as np\n",
    "import matplotlib.pyplot as plt"
   ]
  },
  {
   "cell_type": "code",
   "execution_count": 2,
   "metadata": {},
   "outputs": [
    {
     "data": {
      "text/html": [
       "<div>\n",
       "<style scoped>\n",
       "    .dataframe tbody tr th:only-of-type {\n",
       "        vertical-align: middle;\n",
       "    }\n",
       "\n",
       "    .dataframe tbody tr th {\n",
       "        vertical-align: top;\n",
       "    }\n",
       "\n",
       "    .dataframe thead th {\n",
       "        text-align: right;\n",
       "    }\n",
       "</style>\n",
       "<table border=\"1\" class=\"dataframe\">\n",
       "  <thead>\n",
       "    <tr style=\"text-align: right;\">\n",
       "      <th></th>\n",
       "      <th>work_year</th>\n",
       "      <th>experience_level</th>\n",
       "      <th>employment_type</th>\n",
       "      <th>job_title</th>\n",
       "      <th>salary</th>\n",
       "      <th>salary_currency</th>\n",
       "      <th>salary_in_usd</th>\n",
       "      <th>employee_residence</th>\n",
       "      <th>remote_ratio</th>\n",
       "      <th>company_location</th>\n",
       "      <th>company_size</th>\n",
       "    </tr>\n",
       "  </thead>\n",
       "  <tbody>\n",
       "    <tr>\n",
       "      <th>0</th>\n",
       "      <td>2022</td>\n",
       "      <td>MI</td>\n",
       "      <td>FT</td>\n",
       "      <td>Machine Learning Engineer</td>\n",
       "      <td>130000</td>\n",
       "      <td>USD</td>\n",
       "      <td>130000</td>\n",
       "      <td>US</td>\n",
       "      <td>0</td>\n",
       "      <td>US</td>\n",
       "      <td>M</td>\n",
       "    </tr>\n",
       "    <tr>\n",
       "      <th>1</th>\n",
       "      <td>2022</td>\n",
       "      <td>MI</td>\n",
       "      <td>FT</td>\n",
       "      <td>Machine Learning Engineer</td>\n",
       "      <td>90000</td>\n",
       "      <td>USD</td>\n",
       "      <td>90000</td>\n",
       "      <td>US</td>\n",
       "      <td>0</td>\n",
       "      <td>US</td>\n",
       "      <td>M</td>\n",
       "    </tr>\n",
       "    <tr>\n",
       "      <th>2</th>\n",
       "      <td>2022</td>\n",
       "      <td>MI</td>\n",
       "      <td>FT</td>\n",
       "      <td>Data Scientist</td>\n",
       "      <td>120000</td>\n",
       "      <td>USD</td>\n",
       "      <td>120000</td>\n",
       "      <td>US</td>\n",
       "      <td>100</td>\n",
       "      <td>US</td>\n",
       "      <td>M</td>\n",
       "    </tr>\n",
       "    <tr>\n",
       "      <th>3</th>\n",
       "      <td>2022</td>\n",
       "      <td>MI</td>\n",
       "      <td>FT</td>\n",
       "      <td>Data Scientist</td>\n",
       "      <td>100000</td>\n",
       "      <td>USD</td>\n",
       "      <td>100000</td>\n",
       "      <td>US</td>\n",
       "      <td>100</td>\n",
       "      <td>US</td>\n",
       "      <td>M</td>\n",
       "    </tr>\n",
       "    <tr>\n",
       "      <th>4</th>\n",
       "      <td>2022</td>\n",
       "      <td>MI</td>\n",
       "      <td>FT</td>\n",
       "      <td>Data Scientist</td>\n",
       "      <td>85000</td>\n",
       "      <td>USD</td>\n",
       "      <td>85000</td>\n",
       "      <td>US</td>\n",
       "      <td>100</td>\n",
       "      <td>US</td>\n",
       "      <td>M</td>\n",
       "    </tr>\n",
       "    <tr>\n",
       "      <th>...</th>\n",
       "      <td>...</td>\n",
       "      <td>...</td>\n",
       "      <td>...</td>\n",
       "      <td>...</td>\n",
       "      <td>...</td>\n",
       "      <td>...</td>\n",
       "      <td>...</td>\n",
       "      <td>...</td>\n",
       "      <td>...</td>\n",
       "      <td>...</td>\n",
       "      <td>...</td>\n",
       "    </tr>\n",
       "    <tr>\n",
       "      <th>1327</th>\n",
       "      <td>2020</td>\n",
       "      <td>SE</td>\n",
       "      <td>FT</td>\n",
       "      <td>Data Scientist</td>\n",
       "      <td>412000</td>\n",
       "      <td>USD</td>\n",
       "      <td>412000</td>\n",
       "      <td>US</td>\n",
       "      <td>100</td>\n",
       "      <td>US</td>\n",
       "      <td>L</td>\n",
       "    </tr>\n",
       "    <tr>\n",
       "      <th>1328</th>\n",
       "      <td>2021</td>\n",
       "      <td>MI</td>\n",
       "      <td>FT</td>\n",
       "      <td>Principal Data Scientist</td>\n",
       "      <td>151000</td>\n",
       "      <td>USD</td>\n",
       "      <td>151000</td>\n",
       "      <td>US</td>\n",
       "      <td>100</td>\n",
       "      <td>US</td>\n",
       "      <td>L</td>\n",
       "    </tr>\n",
       "    <tr>\n",
       "      <th>1329</th>\n",
       "      <td>2020</td>\n",
       "      <td>EN</td>\n",
       "      <td>FT</td>\n",
       "      <td>Data Scientist</td>\n",
       "      <td>105000</td>\n",
       "      <td>USD</td>\n",
       "      <td>105000</td>\n",
       "      <td>US</td>\n",
       "      <td>100</td>\n",
       "      <td>US</td>\n",
       "      <td>S</td>\n",
       "    </tr>\n",
       "    <tr>\n",
       "      <th>1330</th>\n",
       "      <td>2020</td>\n",
       "      <td>EN</td>\n",
       "      <td>CT</td>\n",
       "      <td>Business Data Analyst</td>\n",
       "      <td>100000</td>\n",
       "      <td>USD</td>\n",
       "      <td>100000</td>\n",
       "      <td>US</td>\n",
       "      <td>100</td>\n",
       "      <td>US</td>\n",
       "      <td>L</td>\n",
       "    </tr>\n",
       "    <tr>\n",
       "      <th>1331</th>\n",
       "      <td>2021</td>\n",
       "      <td>SE</td>\n",
       "      <td>FT</td>\n",
       "      <td>Data Science Manager</td>\n",
       "      <td>7000000</td>\n",
       "      <td>INR</td>\n",
       "      <td>94665</td>\n",
       "      <td>IN</td>\n",
       "      <td>50</td>\n",
       "      <td>IN</td>\n",
       "      <td>L</td>\n",
       "    </tr>\n",
       "  </tbody>\n",
       "</table>\n",
       "<p>1332 rows × 11 columns</p>\n",
       "</div>"
      ],
      "text/plain": [
       "      work_year experience_level employment_type                  job_title  \\\n",
       "0          2022               MI              FT  Machine Learning Engineer   \n",
       "1          2022               MI              FT  Machine Learning Engineer   \n",
       "2          2022               MI              FT             Data Scientist   \n",
       "3          2022               MI              FT             Data Scientist   \n",
       "4          2022               MI              FT             Data Scientist   \n",
       "...         ...              ...             ...                        ...   \n",
       "1327       2020               SE              FT             Data Scientist   \n",
       "1328       2021               MI              FT   Principal Data Scientist   \n",
       "1329       2020               EN              FT             Data Scientist   \n",
       "1330       2020               EN              CT      Business Data Analyst   \n",
       "1331       2021               SE              FT       Data Science Manager   \n",
       "\n",
       "       salary salary_currency  salary_in_usd employee_residence  remote_ratio  \\\n",
       "0      130000             USD         130000                 US             0   \n",
       "1       90000             USD          90000                 US             0   \n",
       "2      120000             USD         120000                 US           100   \n",
       "3      100000             USD         100000                 US           100   \n",
       "4       85000             USD          85000                 US           100   \n",
       "...       ...             ...            ...                ...           ...   \n",
       "1327   412000             USD         412000                 US           100   \n",
       "1328   151000             USD         151000                 US           100   \n",
       "1329   105000             USD         105000                 US           100   \n",
       "1330   100000             USD         100000                 US           100   \n",
       "1331  7000000             INR          94665                 IN            50   \n",
       "\n",
       "     company_location company_size  \n",
       "0                  US            M  \n",
       "1                  US            M  \n",
       "2                  US            M  \n",
       "3                  US            M  \n",
       "4                  US            M  \n",
       "...               ...          ...  \n",
       "1327               US            L  \n",
       "1328               US            L  \n",
       "1329               US            S  \n",
       "1330               US            L  \n",
       "1331               IN            L  \n",
       "\n",
       "[1332 rows x 11 columns]"
      ]
     },
     "execution_count": 2,
     "metadata": {},
     "output_type": "execute_result"
    }
   ],
   "source": [
    "df = pd.read_csv(\"salaries.csv\")\n",
    "df"
   ]
  },
  {
   "cell_type": "markdown",
   "metadata": {},
   "source": [
    "Fazer um grafico de barras de intervalos de salario , pesquisar para isso"
   ]
  },
  {
   "cell_type": "code",
   "execution_count": 3,
   "metadata": {},
   "outputs": [
    {
     "name": "stdout",
     "output_type": "stream",
     "text": [
      "['Machine Learning Engineer' 'Data Scientist' 'Data Engineer'\n",
      " 'Head of Data' 'Data Analyst' 'BI Analyst' 'Analytics Engineer'\n",
      " 'Research Engineer' 'Data Operations Analyst' 'ML Engineer'\n",
      " 'Data Architect' 'Data Operations Engineer'\n",
      " '3D Computer Vision Researcher' 'Marketing Data Analyst'\n",
      " 'Data Science Lead' 'Power BI Developer' 'Product Data Scientist'\n",
      " 'Data Science Consultant' 'Data Manager' 'BI Data Analyst'\n",
      " 'Big Data Engineer' 'Principal Data Architect' 'Machine Learning Manager'\n",
      " 'Applied Scientist' 'Lead Data Scientist'\n",
      " 'Lead Machine Learning Engineer' 'NLP Engineer' 'Research Scientist'\n",
      " 'Data Analytics Engineer' 'ETL Developer' 'AI Scientist'\n",
      " 'Data Scientist Lead' 'Data Science Manager' 'Data Specialist'\n",
      " 'Business Data Analyst' 'Applied Machine Learning Scientist'\n",
      " 'Machine Learning Research Engineer' 'Machine Learning Scientist'\n",
      " 'Machine Learning Developer' 'Data Engineering Manager'\n",
      " 'Director of Data Science' 'Financial Data Analyst'\n",
      " 'Computer Vision Software Engineer' 'Data Analytics Consultant'\n",
      " 'Product Data Analyst' 'Machine Learning Infrastructure Engineer'\n",
      " 'Applied Data Scientist' 'Cloud Data Architect' 'Data Analytics Manager'\n",
      " 'Lead Data Engineer' 'Head of Machine Learning' 'Data Science Engineer'\n",
      " 'Head of Data Science' 'Computer Vision Engineer'\n",
      " 'Principal Data Analyst' 'Data Analytics Lead' 'Principal Data Scientist'\n",
      " 'Principal Data Engineer' 'Lead Data Analyst'\n",
      " 'Director of Data Engineering' 'Cloud Data Engineer' 'Big Data Architect'\n",
      " 'Staff Data Scientist' 'Finance Data Analyst']\n"
     ]
    }
   ],
   "source": [
    "print(df['job_title'].unique())"
   ]
  },
  {
   "cell_type": "code",
   "execution_count": 4,
   "metadata": {},
   "outputs": [
    {
     "name": "stdout",
     "output_type": "stream",
     "text": [
      "['M' 'L' 'S']\n"
     ]
    }
   ],
   "source": [
    "print(df['company_size'].unique())"
   ]
  },
  {
   "cell_type": "code",
   "execution_count": 5,
   "metadata": {},
   "outputs": [
    {
     "data": {
      "text/plain": [
       "count      1332.000000\n",
       "mean     123374.658408\n",
       "std       65945.872172\n",
       "min        2324.000000\n",
       "25%       75593.000000\n",
       "50%      120000.000000\n",
       "75%      164997.000000\n",
       "max      600000.000000\n",
       "Name: salary_in_usd, dtype: float64"
      ]
     },
     "execution_count": 5,
     "metadata": {},
     "output_type": "execute_result"
    }
   ],
   "source": [
    "df['salary_in_usd'].describe()"
   ]
  },
  {
   "cell_type": "code",
   "execution_count": 9,
   "metadata": {},
   "outputs": [
    {
     "data": {
      "text/plain": [
       "M    898\n",
       "L    322\n",
       "S    112\n",
       "Name: company_size, dtype: int64"
      ]
     },
     "execution_count": 9,
     "metadata": {},
     "output_type": "execute_result"
    }
   ],
   "source": [
    "df['company_size'].value_counts()"
   ]
  },
  {
   "cell_type": "code",
   "execution_count": 23,
   "metadata": {},
   "outputs": [
    {
     "data": {
      "text/html": [
       "<div>\n",
       "<style scoped>\n",
       "    .dataframe tbody tr th:only-of-type {\n",
       "        vertical-align: middle;\n",
       "    }\n",
       "\n",
       "    .dataframe tbody tr th {\n",
       "        vertical-align: top;\n",
       "    }\n",
       "\n",
       "    .dataframe thead th {\n",
       "        text-align: right;\n",
       "    }\n",
       "</style>\n",
       "<table border=\"1\" class=\"dataframe\">\n",
       "  <thead>\n",
       "    <tr style=\"text-align: right;\">\n",
       "      <th></th>\n",
       "      <th>work_year</th>\n",
       "      <th>salary</th>\n",
       "      <th>salary_in_usd</th>\n",
       "      <th>remote_ratio</th>\n",
       "    </tr>\n",
       "    <tr>\n",
       "      <th>company_size</th>\n",
       "      <th></th>\n",
       "      <th></th>\n",
       "      <th></th>\n",
       "      <th></th>\n",
       "    </tr>\n",
       "  </thead>\n",
       "  <tbody>\n",
       "    <tr>\n",
       "      <th>L</th>\n",
       "      <td>2021.388199</td>\n",
       "      <td>464550.714286</td>\n",
       "      <td>117776.186335</td>\n",
       "      <td>68.167702</td>\n",
       "    </tr>\n",
       "    <tr>\n",
       "      <th>M</th>\n",
       "      <td>2021.905345</td>\n",
       "      <td>144895.023385</td>\n",
       "      <td>130720.021158</td>\n",
       "      <td>61.414254</td>\n",
       "    </tr>\n",
       "    <tr>\n",
       "      <th>S</th>\n",
       "      <td>2021.142857</td>\n",
       "      <td>329748.526786</td>\n",
       "      <td>80576.196429</td>\n",
       "      <td>70.982143</td>\n",
       "    </tr>\n",
       "  </tbody>\n",
       "</table>\n",
       "</div>"
      ],
      "text/plain": [
       "                work_year         salary  salary_in_usd  remote_ratio\n",
       "company_size                                                         \n",
       "L             2021.388199  464550.714286  117776.186335     68.167702\n",
       "M             2021.905345  144895.023385  130720.021158     61.414254\n",
       "S             2021.142857  329748.526786   80576.196429     70.982143"
      ]
     },
     "execution_count": 23,
     "metadata": {},
     "output_type": "execute_result"
    }
   ],
   "source": [
    "df= df.groupby('company_size').mean()\n",
    "df"
   ]
  },
  {
   "cell_type": "markdown",
   "metadata": {},
   "source": [
    "Agora vamos plotarm o grafico da media x o de cada letra"
   ]
  },
  {
   "cell_type": "code",
   "execution_count": 28,
   "metadata": {},
   "outputs": [],
   "source": [
    "data = {'S':80576,'M':130720,'L':117776}"
   ]
  },
  {
   "cell_type": "code",
   "execution_count": 30,
   "metadata": {},
   "outputs": [],
   "source": [
    "company_size = list(data.keys())\n",
    "mean_salary = list(data.values())"
   ]
  },
  {
   "cell_type": "code",
   "execution_count": 31,
   "metadata": {},
   "outputs": [
    {
     "data": {
      "text/plain": [
       "<Figure size 1000x500 with 0 Axes>"
      ]
     },
     "metadata": {},
     "output_type": "display_data"
    }
   ],
   "source": [
    "fig = plt.figure(figsize=(10,5))"
   ]
  },
  {
   "cell_type": "code",
   "execution_count": 36,
   "metadata": {},
   "outputs": [
    {
     "data": {
      "text/plain": [
       "Text(0.5, 1.0, 'What type of company paid more')"
      ]
     },
     "execution_count": 36,
     "metadata": {},
     "output_type": "execute_result"
    },
    {
     "data": {
      "image/png": "[encoded data removed]",
      "text/plain": [
       "<Figure size 640x480 with 1 Axes>"
      ]
     },
     "metadata": {},
     "output_type": "display_data"
    }
   ],
   "source": [
    "plt.bar(company_size,mean_salary,color='red',edgecolor='none',width=0.6)\n",
    "plt.xlabel(\"Size of company\")\n",
    "plt.ylabel(\"Mean salary in usd\")\n",
    "plt.title(\"What type of company paid more\")"
   ]
  }
 ],
 "metadata": {
  "kernelspec": {
   "display_name": "Python 3.10.6 64-bit",
   "language": "python",
   "name": "python3"
  },
  "language_info": {
   "codemirror_mode": {
    "name": "ipython",
    "version": 3
   },
   "file_extension": ".py",
   "mimetype": "text/x-python",
   "name": "python",
   "nbconvert_exporter": "python",
   "pygments_lexer": "ipython3",
   "version": "3.10.6"
  },
  "orig_nbformat": 4,
  "vscode": {
   "interpreter": {
    "hash": "916dbcbb3f70747c44a77c7bcd40155683ae19c65e1c03b4aa3499c5328201f1"
   }
  }
 },
 "nbformat": 4,
 "nbformat_minor": 2
}
